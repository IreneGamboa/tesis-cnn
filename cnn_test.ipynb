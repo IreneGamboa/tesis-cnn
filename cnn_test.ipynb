{
 "cells": [
  {
   "cell_type": "code",
   "execution_count": 1,
   "metadata": {},
   "outputs": [
    {
     "name": "stderr",
     "output_type": "stream",
     "text": [
      "Using TensorFlow backend.\n"
     ]
    }
   ],
   "source": [
    "from keras.layers import Input, Dense, Conv1D, Flatten, MaxPooling1D\n",
    "from keras.models import Model, Sequential\n",
    "\n",
    "def network(size):\n",
    "    model = Sequential()\n",
    "    model.add(Conv1D(128, (8,), activation='relu', padding='valid', input_shape=(size, 1)))\n",
    "    model.add(MaxPooling1D((2,), padding='same'))\n",
    "    \n",
    "    model.add(Conv1D(64, (8,), activation='relu', padding='valid'))\n",
    "    model.add(MaxPooling1D((2,), padding='same'))\n",
    "    \n",
    "    model.add(Conv1D(32, (8,), activation='relu', padding='valid'))\n",
    "    model.add(MaxPooling1D((2,), padding='same'))\n",
    "    \n",
    "    model.add(Flatten())\n",
    "    model.add(Dense(size, activation='softmax'))\n",
    "\n",
    "    model.compile(optimizer='adam', loss='categorical_crossentropy', metrics=['accuracy', 'categorical_accuracy'])\n",
    "\n",
    "    return model"
   ]
  },
  {
   "cell_type": "code",
   "execution_count": 5,
   "metadata": {},
   "outputs": [
    {
     "name": "stdout",
     "output_type": "stream",
     "text": [
      "/home/irene/Documents/Datos-Tesis/Training/training_data_28\n"
     ]
    }
   ],
   "source": [
    "import os\n",
    "import h5py\n",
    "import numpy as np\n",
    "\n",
    "size = 60\n",
    "\n",
    "base_path = '/home/irene/Documents/Datos-Tesis/Training_'\n",
    "\n",
    "total_files = len(os.listdir(base_path))\n",
    "x_dataset = np.zeros(shape=(0, size))\n",
    "y_dataset = np.zeros(shape=(0, size))\n",
    "\n",
    "for file_path in os.listdir(base_path):\n",
    "    current_index = 0\n",
    "    h5f = h5py.File(os.path.join(base_path, file_path), 'r')\n",
    "    print(\"{}\".format(os.path.join(base_path, file_path)))\n",
    "    while current_index < len(h5f['normal'][:]):\n",
    "        if current_index + size > len(h5f['normal'][:]):\n",
    "            difference = len(h5f['normal'][:]) - current_index\n",
    "            x = h5f['normal'][current_index:current_index+difference]\n",
    "            y = h5f['transformed'][current_index:current_index+difference]\n",
    "            difference2 = size - difference\n",
    "            x = np.append(x, np.zeros(difference2))\n",
    "            y = np.append(y, np.zeros(difference2))\n",
    "        \n",
    "        else:\n",
    "            x = h5f['normal'][current_index:current_index+size]\n",
    "            y = h5f['transformed'][current_index:current_index+size]\n",
    "        if 1 in y:\n",
    "            x_dataset = np.vstack((x_dataset, x))\n",
    "            y_dataset = np.vstack((y_dataset, y))\n",
    "        \n",
    "        current_index = current_index + 1\n",
    "    break\n",
    "\n",
    "x_dataset = np.reshape(x_dataset, (len(x_dataset), size, 1))\n",
    "y_dataset = np.reshape(y_dataset, (len(y_dataset), size))\n",
    "\n",
    "num_to_load = len(x_dataset)\n",
    "split = int(num_to_load * 0.85)\n",
    "\n",
    "x_train = x_dataset[0:split]\n",
    "y_train = y_dataset[0:split]\n",
    "x_test = x_dataset[split:]\n",
    "y_test = y_dataset[split:]\n",
    "    \n",
    "# classifier.save_weights('/home/irene/Documents/Datos-Tesis/weights.h5')"
   ]
  },
  {
   "cell_type": "code",
   "execution_count": 6,
   "metadata": {},
   "outputs": [
    {
     "name": "stdout",
     "output_type": "stream",
     "text": [
      "WARNING:tensorflow:From /home/irene/virtualenvs/obspy/lib/python3.6/site-packages/tensorflow/python/ops/math_ops.py:3066: to_int32 (from tensorflow.python.ops.math_ops) is deprecated and will be removed in a future version.\n",
      "Instructions for updating:\n",
      "Use tf.cast instead.\n",
      "Epoch 1/20\n",
      "51/51 [==============================] - 0s 8ms/step - loss: 15.8021 - acc: 0.0196 - categorical_accuracy: 0.0196\n",
      "Epoch 2/20\n",
      "51/51 [==============================] - 0s 587us/step - loss: 15.8021 - acc: 0.0196 - categorical_accuracy: 0.0196\n",
      "Epoch 3/20\n",
      "51/51 [==============================] - 0s 520us/step - loss: 15.8021 - acc: 0.0196 - categorical_accuracy: 0.0196\n",
      "Epoch 4/20\n",
      "51/51 [==============================] - 0s 515us/step - loss: 15.8021 - acc: 0.0196 - categorical_accuracy: 0.0196\n",
      "Epoch 5/20\n",
      "51/51 [==============================] - 0s 528us/step - loss: 15.8021 - acc: 0.0196 - categorical_accuracy: 0.0196\n",
      "Epoch 6/20\n",
      "51/51 [==============================] - 0s 556us/step - loss: 15.8021 - acc: 0.0196 - categorical_accuracy: 0.0196\n",
      "Epoch 7/20\n",
      "51/51 [==============================] - 0s 512us/step - loss: 15.8021 - acc: 0.0196 - categorical_accuracy: 0.0196\n",
      "Epoch 8/20\n",
      "51/51 [==============================] - 0s 593us/step - loss: 15.8021 - acc: 0.0196 - categorical_accuracy: 0.0196\n",
      "Epoch 9/20\n",
      "51/51 [==============================] - 0s 674us/step - loss: 15.8021 - acc: 0.0196 - categorical_accuracy: 0.0196\n",
      "Epoch 10/20\n",
      "51/51 [==============================] - 0s 737us/step - loss: 15.8021 - acc: 0.0196 - categorical_accuracy: 0.0196\n",
      "Epoch 11/20\n",
      "51/51 [==============================] - 0s 594us/step - loss: 15.8021 - acc: 0.0196 - categorical_accuracy: 0.0196\n",
      "Epoch 12/20\n",
      "51/51 [==============================] - 0s 676us/step - loss: 15.8021 - acc: 0.0196 - categorical_accuracy: 0.0196\n",
      "Epoch 13/20\n",
      "51/51 [==============================] - 0s 613us/step - loss: 15.8021 - acc: 0.0196 - categorical_accuracy: 0.0196\n",
      "Epoch 14/20\n",
      "51/51 [==============================] - 0s 548us/step - loss: 15.8021 - acc: 0.0196 - categorical_accuracy: 0.0196\n",
      "Epoch 15/20\n",
      "51/51 [==============================] - 0s 567us/step - loss: 15.8021 - acc: 0.0196 - categorical_accuracy: 0.0196\n",
      "Epoch 16/20\n",
      "51/51 [==============================] - 0s 607us/step - loss: 15.8021 - acc: 0.0196 - categorical_accuracy: 0.0196\n",
      "Epoch 17/20\n",
      "51/51 [==============================] - 0s 568us/step - loss: 15.8021 - acc: 0.0196 - categorical_accuracy: 0.0196\n",
      "Epoch 18/20\n",
      "51/51 [==============================] - 0s 482us/step - loss: 15.8021 - acc: 0.0196 - categorical_accuracy: 0.0196\n",
      "Epoch 19/20\n",
      "51/51 [==============================] - 0s 571us/step - loss: 15.8021 - acc: 0.0196 - categorical_accuracy: 0.0196\n",
      "Epoch 20/20\n",
      "51/51 [==============================] - 0s 565us/step - loss: 15.8021 - acc: 0.0196 - categorical_accuracy: 0.0196\n"
     ]
    },
    {
     "data": {
      "text/plain": [
       "<keras.callbacks.History at 0x7fa47c6ebfd0>"
      ]
     },
     "execution_count": 6,
     "metadata": {},
     "output_type": "execute_result"
    }
   ],
   "source": [
    "\n",
    "classifier = network(size)\n",
    "classifier.fit(x_train, y_train, epochs=20, batch_size=64)"
   ]
  },
  {
   "cell_type": "code",
   "execution_count": 3,
   "metadata": {},
   "outputs": [
    {
     "name": "stdout",
     "output_type": "stream",
     "text": [
      "_________________________________________________________________\n",
      "Layer (type)                 Output Shape              Param #   \n",
      "=================================================================\n",
      "conv1d_3 (Conv1D)            (None, 53, 128)           1152      \n",
      "_________________________________________________________________\n",
      "max_pooling1d_2 (MaxPooling1 (None, 27, 128)           0         \n",
      "_________________________________________________________________\n",
      "conv1d_4 (Conv1D)            (None, 20, 64)            65600     \n",
      "_________________________________________________________________\n",
      "max_pooling1d_3 (MaxPooling1 (None, 10, 64)            0         \n",
      "_________________________________________________________________\n",
      "conv1d_5 (Conv1D)            (None, 3, 32)             16416     \n",
      "_________________________________________________________________\n",
      "max_pooling1d_4 (MaxPooling1 (None, 2, 32)             0         \n",
      "_________________________________________________________________\n",
      "flatten_1 (Flatten)          (None, 64)                0         \n",
      "_________________________________________________________________\n",
      "dense_1 (Dense)              (None, 60)                3900      \n",
      "=================================================================\n",
      "Total params: 87,068\n",
      "Trainable params: 87,068\n",
      "Non-trainable params: 0\n",
      "_________________________________________________________________\n"
     ]
    }
   ],
   "source": [
    "network(60).summary()"
   ]
  },
  {
   "cell_type": "code",
   "execution_count": 72,
   "metadata": {},
   "outputs": [],
   "source": [
    "from keras.layers import Input, Dense, Conv1D, Flatten, MaxPooling1D\n",
    "from keras.models import Model, Sequential\n",
    "\n",
    "def network(input_window_size=60, filter_number=32, conv_window=(3,), pooling_window=(2,), activation='relu', \n",
    "            dense_activation='softmax', optimizer='adam', loss='categorical_crossentropy', layers=1):\n",
    "    model = Sequential()\n",
    "    \n",
    "    # Input Layer\n",
    "    model.add(Conv1D(filter_number, conv_window, activation=activation, padding='valid', input_shape=(input_window_size, 1)))\n",
    "    model.add(MaxPooling1D(pooling_window, padding='same'))\n",
    "    \n",
    "    # Hidden Layers\n",
    "    filter_number_temp = filter_number\n",
    "    for i in range(layers):\n",
    "        filter_number_temp = filter_number_temp *  2\n",
    "        model.add(Conv1D(filter_number_temp, conv_window, activation=activation, padding='valid'))\n",
    "        model.add(MaxPooling1D(pooling_window, padding='same'))\n",
    "    \n",
    "    # Output Layer\n",
    "    model.add(Flatten())\n",
    "    model.add(Dense(2, activation=dense_activation))\n",
    "\n",
    "    model.compile(optimizer=optimizer, loss=loss, metrics=['accuracy', 'categorical_accuracy'])\n",
    "\n",
    "    return model"
   ]
  },
  {
   "cell_type": "code",
   "execution_count": 143,
   "metadata": {
    "scrolled": true
   },
   "outputs": [
    {
     "name": "stdout",
     "output_type": "stream",
     "text": [
      "1\n",
      "2\n",
      "3\n",
      "4\n",
      "5\n",
      "6\n",
      "7\n",
      "8\n",
      "9\n",
      "10\n",
      "11\n",
      "12\n",
      "13\n",
      "14\n",
      "15\n",
      "16\n",
      "17\n",
      "18\n",
      "19\n",
      "20\n",
      "21\n",
      "22\n",
      "23\n",
      "24\n",
      "25\n",
      "26\n",
      "27\n",
      "28\n",
      "29\n",
      "30\n",
      "31\n",
      "32\n",
      "33\n",
      "34\n",
      "35\n",
      "36\n",
      "37\n",
      "38\n",
      "39\n",
      "40\n",
      "41\n",
      "42\n",
      "43\n",
      "44\n",
      "45\n",
      "46\n",
      "47\n",
      "48\n",
      "49\n",
      "50\n",
      "51\n",
      "52\n",
      "53\n",
      "54\n",
      "55\n",
      "56\n",
      "57\n",
      "58\n",
      "59\n",
      "60\n",
      "61\n",
      "62\n",
      "63\n",
      "64\n",
      "65\n",
      "66\n",
      "67\n",
      "68\n",
      "69\n",
      "70\n",
      "71\n",
      "72\n",
      "73\n",
      "74\n",
      "75\n",
      "76\n"
     ]
    },
    {
     "ename": "KeyboardInterrupt",
     "evalue": "",
     "output_type": "error",
     "traceback": [
      "\u001b[0;31m---------------------------------------------------------------------------\u001b[0m",
      "\u001b[0;31mKeyboardInterrupt\u001b[0m                         Traceback (most recent call last)",
      "\u001b[0;32m<ipython-input-143-a10a3097b0da>\u001b[0m in \u001b[0;36m<module>\u001b[0;34m\u001b[0m\n\u001b[1;32m     30\u001b[0m             \u001b[0my\u001b[0m \u001b[0;34m=\u001b[0m \u001b[0;34m[\u001b[0m\u001b[0mnp\u001b[0m\u001b[0;34m.\u001b[0m\u001b[0mamax\u001b[0m\u001b[0;34m(\u001b[0m\u001b[0my\u001b[0m\u001b[0;34m)\u001b[0m\u001b[0;34m]\u001b[0m\u001b[0;34m\u001b[0m\u001b[0;34m\u001b[0m\u001b[0m\n\u001b[1;32m     31\u001b[0m \u001b[0;34m\u001b[0m\u001b[0m\n\u001b[0;32m---> 32\u001b[0;31m         \u001b[0mx_dataset\u001b[0m \u001b[0;34m=\u001b[0m \u001b[0mnp\u001b[0m\u001b[0;34m.\u001b[0m\u001b[0mvstack\u001b[0m\u001b[0;34m(\u001b[0m\u001b[0;34m(\u001b[0m\u001b[0mx_dataset\u001b[0m\u001b[0;34m,\u001b[0m \u001b[0mx\u001b[0m\u001b[0;34m)\u001b[0m\u001b[0;34m)\u001b[0m\u001b[0;34m\u001b[0m\u001b[0;34m\u001b[0m\u001b[0m\n\u001b[0m\u001b[1;32m     33\u001b[0m         \u001b[0my_dataset\u001b[0m \u001b[0;34m=\u001b[0m \u001b[0mnp\u001b[0m\u001b[0;34m.\u001b[0m\u001b[0mvstack\u001b[0m\u001b[0;34m(\u001b[0m\u001b[0;34m(\u001b[0m\u001b[0my_dataset\u001b[0m\u001b[0;34m,\u001b[0m \u001b[0my\u001b[0m\u001b[0;34m)\u001b[0m\u001b[0;34m)\u001b[0m\u001b[0;34m\u001b[0m\u001b[0;34m\u001b[0m\u001b[0m\n\u001b[1;32m     34\u001b[0m \u001b[0;34m\u001b[0m\u001b[0m\n",
      "\u001b[0;32m~/virtualenvs/obspy/lib/python3.6/site-packages/numpy/core/shape_base.py\u001b[0m in \u001b[0;36mvstack\u001b[0;34m(tup)\u001b[0m\n\u001b[1;32m    281\u001b[0m     \"\"\"\n\u001b[1;32m    282\u001b[0m     \u001b[0m_warn_for_nonsequence\u001b[0m\u001b[0;34m(\u001b[0m\u001b[0mtup\u001b[0m\u001b[0;34m)\u001b[0m\u001b[0;34m\u001b[0m\u001b[0;34m\u001b[0m\u001b[0m\n\u001b[0;32m--> 283\u001b[0;31m     \u001b[0;32mreturn\u001b[0m \u001b[0m_nx\u001b[0m\u001b[0;34m.\u001b[0m\u001b[0mconcatenate\u001b[0m\u001b[0;34m(\u001b[0m\u001b[0;34m[\u001b[0m\u001b[0matleast_2d\u001b[0m\u001b[0;34m(\u001b[0m\u001b[0m_m\u001b[0m\u001b[0;34m)\u001b[0m \u001b[0;32mfor\u001b[0m \u001b[0m_m\u001b[0m \u001b[0;32min\u001b[0m \u001b[0mtup\u001b[0m\u001b[0;34m]\u001b[0m\u001b[0;34m,\u001b[0m \u001b[0;36m0\u001b[0m\u001b[0;34m)\u001b[0m\u001b[0;34m\u001b[0m\u001b[0;34m\u001b[0m\u001b[0m\n\u001b[0m\u001b[1;32m    284\u001b[0m \u001b[0;34m\u001b[0m\u001b[0m\n\u001b[1;32m    285\u001b[0m \u001b[0;34m\u001b[0m\u001b[0m\n",
      "\u001b[0;31mKeyboardInterrupt\u001b[0m: "
     ]
    }
   ],
   "source": [
    "import os\n",
    "import h5py\n",
    "import numpy as np\n",
    "from keras.utils import to_categorical\n",
    "\n",
    "size = 60\n",
    "\n",
    "base_path = '/home/irene/Documents/Datos-Tesis/Training_window'\n",
    "\n",
    "total_files = len(os.listdir(base_path))\n",
    "x_dataset = np.zeros(shape=(0, size))\n",
    "y_dataset = np.zeros(shape=(0, 1))\n",
    "count = 1\n",
    "skipped = []\n",
    "for file_path in os.listdir(base_path):\n",
    "    current_index = 0\n",
    "    print(count)\n",
    "    count = count + 1\n",
    "    if random < 0.15:\n",
    "        skipped.append(os.path.join(base_path, file_path))\n",
    "        continue\n",
    "        h5f = h5py.File(os.path.join(base_path, file_path), 'r')\n",
    "    \n",
    "    while current_index < len(h5f['normal'][:]):\n",
    "        if current_index + size > len(h5f['normal'][:]):\n",
    "            difference = len(h5f['normal'][:]) - current_index\n",
    "            x = h5f['normal'][current_index:current_index+difference]\n",
    "            y = h5f['transformed'][current_index:current_index+difference]\n",
    "            difference2 = size - difference\n",
    "            x = np.append(x, np.zeros(difference2))\n",
    "            y = [np.amax(y)]\n",
    "        else:\n",
    "            x = h5f['normal'][current_index:current_index+size]\n",
    "            y = h5f['transformed'][current_index:current_index+size]\n",
    "            y = [np.amax(y)]\n",
    "\n",
    "        x_dataset = np.vstack((x_dataset, x))\n",
    "        y_dataset = np.vstack((y_dataset, y))\n",
    "        \n",
    "        current_index = current_index + 1\n",
    "\n",
    "x_dataset = np.reshape(x_dataset, (len(x_dataset), size, 1))\n",
    "y_dataset = np.reshape(y_dataset, (len(y_dataset), 1))\n",
    "y_dataset = to_categorical(y_dataset)\n",
    "\n",
    "num_to_load = len(x_dataset)\n",
    "split = int(num_to_load * 0.85)\n",
    "\n",
    "x_train = x_dataset[0:split]\n",
    "y_train = y_dataset[0:split]\n",
    "x_test = x_dataset[split:]\n",
    "y_test = y_dataset[split:]\n",
    "    \n",
    "# classifier.save_weights('/home/irene/Documents/Datos-Tesis/weights.h5')"
   ]
  },
  {
   "cell_type": "code",
   "execution_count": 73,
   "metadata": {},
   "outputs": [],
   "source": [
    "cnn = network(layers=2)"
   ]
  },
  {
   "cell_type": "code",
   "execution_count": 142,
   "metadata": {},
   "outputs": [
    {
     "name": "stdout",
     "output_type": "stream",
     "text": [
      "Epoch 1/80\n",
      "82532/82532 [==============================] - 21s 251us/step - loss: 0.0581 - acc: 0.9793 - categorical_accuracy: 0.9793\n",
      "Epoch 2/80\n",
      "82532/82532 [==============================] - 21s 252us/step - loss: 0.0544 - acc: 0.9811 - categorical_accuracy: 0.9811\n",
      "Epoch 3/80\n",
      "82532/82532 [==============================] - 19s 230us/step - loss: 0.0529 - acc: 0.9810 - categorical_accuracy: 0.9810\n",
      "Epoch 4/80\n",
      "82532/82532 [==============================] - 19s 229us/step - loss: 0.0493 - acc: 0.9821 - categorical_accuracy: 0.9821\n",
      "Epoch 5/80\n",
      "82532/82532 [==============================] - 22s 272us/step - loss: 0.0483 - acc: 0.9832 - categorical_accuracy: 0.9832\n",
      "Epoch 6/80\n",
      "82532/82532 [==============================] - 24s 287us/step - loss: 0.0438 - acc: 0.9847 - categorical_accuracy: 0.9847\n",
      "Epoch 7/80\n",
      "82532/82532 [==============================] - 22s 262us/step - loss: 0.0425 - acc: 0.9849 - categorical_accuracy: 0.9849\n",
      "Epoch 8/80\n",
      "82532/82532 [==============================] - 23s 275us/step - loss: 0.0418 - acc: 0.9850 - categorical_accuracy: 0.9850\n",
      "Epoch 9/80\n",
      "82532/82532 [==============================] - 25s 303us/step - loss: 0.0393 - acc: 0.9862 - categorical_accuracy: 0.9862\n",
      "Epoch 10/80\n",
      "82532/82532 [==============================] - 25s 305us/step - loss: 0.0378 - acc: 0.9869 - categorical_accuracy: 0.9869\n",
      "Epoch 11/80\n",
      "82532/82532 [==============================] - 21s 259us/step - loss: 0.0390 - acc: 0.9861 - categorical_accuracy: 0.9861\n",
      "Epoch 12/80\n",
      "82532/82532 [==============================] - 23s 282us/step - loss: 0.0348 - acc: 0.9878 - categorical_accuracy: 0.9878\n",
      "Epoch 13/80\n",
      "82532/82532 [==============================] - 24s 289us/step - loss: 0.0340 - acc: 0.9883 - categorical_accuracy: 0.9883\n",
      "Epoch 14/80\n",
      "82532/82532 [==============================] - 22s 272us/step - loss: 0.0328 - acc: 0.9885 - categorical_accuracy: 0.9885\n",
      "Epoch 15/80\n",
      "82532/82532 [==============================] - 24s 286us/step - loss: 0.0349 - acc: 0.9883 - categorical_accuracy: 0.9883\n",
      "Epoch 16/80\n",
      "82532/82532 [==============================] - 19s 232us/step - loss: 0.0315 - acc: 0.9890 - categorical_accuracy: 0.9890\n",
      "Epoch 17/80\n",
      "82532/82532 [==============================] - 22s 272us/step - loss: 0.0293 - acc: 0.9896 - categorical_accuracy: 0.9896\n",
      "Epoch 18/80\n",
      "82532/82532 [==============================] - 19s 232us/step - loss: 0.0311 - acc: 0.9892 - categorical_accuracy: 0.9892\n",
      "Epoch 19/80\n",
      "82532/82532 [==============================] - 22s 265us/step - loss: 0.0277 - acc: 0.9898 - categorical_accuracy: 0.9898\n",
      "Epoch 20/80\n",
      "82532/82532 [==============================] - 24s 290us/step - loss: 0.0319 - acc: 0.9894 - categorical_accuracy: 0.9894\n",
      "Epoch 21/80\n",
      "82532/82532 [==============================] - 24s 292us/step - loss: 0.0257 - acc: 0.9911 - categorical_accuracy: 0.9911\n",
      "Epoch 22/80\n",
      "82532/82532 [==============================] - 24s 294us/step - loss: 0.0295 - acc: 0.9901 - categorical_accuracy: 0.9901\n",
      "Epoch 23/80\n",
      "82532/82532 [==============================] - 23s 277us/step - loss: 0.0262 - acc: 0.9909 - categorical_accuracy: 0.9909\n",
      "Epoch 24/80\n",
      "82532/82532 [==============================] - 23s 276us/step - loss: 0.0243 - acc: 0.9918 - categorical_accuracy: 0.9918\n",
      "Epoch 25/80\n",
      "82532/82532 [==============================] - 25s 303us/step - loss: 0.0247 - acc: 0.9919 - categorical_accuracy: 0.9919\n",
      "Epoch 26/80\n",
      "82532/82532 [==============================] - 23s 283us/step - loss: 0.0277 - acc: 0.9910 - categorical_accuracy: 0.9910\n",
      "Epoch 27/80\n",
      "82532/82532 [==============================] - 23s 277us/step - loss: 0.0236 - acc: 0.9919 - categorical_accuracy: 0.9919\n",
      "Epoch 28/80\n",
      "82532/82532 [==============================] - 22s 268us/step - loss: 0.0231 - acc: 0.9921 - categorical_accuracy: 0.9921\n",
      "Epoch 29/80\n",
      "82532/82532 [==============================] - 20s 246us/step - loss: 0.0218 - acc: 0.9922 - categorical_accuracy: 0.9922\n",
      "Epoch 30/80\n",
      "82532/82532 [==============================] - 19s 235us/step - loss: 0.0200 - acc: 0.9934 - categorical_accuracy: 0.9934\n",
      "Epoch 31/80\n",
      "82532/82532 [==============================] - 20s 243us/step - loss: 0.0231 - acc: 0.9921 - categorical_accuracy: 0.9921\n",
      "Epoch 32/80\n",
      "82532/82532 [==============================] - 20s 247us/step - loss: 0.0229 - acc: 0.9926 - categorical_accuracy: 0.9926\n",
      "Epoch 33/80\n",
      "82532/82532 [==============================] - 20s 242us/step - loss: 0.0203 - acc: 0.9929 - categorical_accuracy: 0.9929\n",
      "Epoch 34/80\n",
      "82532/82532 [==============================] - 21s 251us/step - loss: 0.0203 - acc: 0.9933 - categorical_accuracy: 0.9933\n",
      "Epoch 35/80\n",
      "82532/82532 [==============================] - 22s 263us/step - loss: 0.0206 - acc: 0.9932 - categorical_accuracy: 0.9932\n",
      "Epoch 36/80\n",
      "82532/82532 [==============================] - 21s 249us/step - loss: 0.0240 - acc: 0.9919 - categorical_accuracy: 0.9919\n",
      "Epoch 37/80\n",
      "82532/82532 [==============================] - 19s 234us/step - loss: 0.0197 - acc: 0.9932 - categorical_accuracy: 0.9932\n",
      "Epoch 38/80\n",
      "82532/82532 [==============================] - 20s 241us/step - loss: 0.0220 - acc: 0.9932 - categorical_accuracy: 0.9932\n",
      "Epoch 39/80\n",
      "82532/82532 [==============================] - 21s 251us/step - loss: 0.0192 - acc: 0.9936 - categorical_accuracy: 0.9936\n",
      "Epoch 40/80\n",
      "82532/82532 [==============================] - 24s 293us/step - loss: 0.0210 - acc: 0.9937 - categorical_accuracy: 0.9937\n",
      "Epoch 41/80\n",
      "82532/82532 [==============================] - 22s 270us/step - loss: 0.0191 - acc: 0.9941 - categorical_accuracy: 0.9941\n",
      "Epoch 42/80\n",
      "82532/82532 [==============================] - 24s 293us/step - loss: 0.0171 - acc: 0.9945 - categorical_accuracy: 0.9945\n",
      "Epoch 43/80\n",
      "82532/82532 [==============================] - 24s 290us/step - loss: 0.0201 - acc: 0.9932 - categorical_accuracy: 0.9932\n",
      "Epoch 44/80\n",
      "82532/82532 [==============================] - 23s 283us/step - loss: 0.0168 - acc: 0.9944 - categorical_accuracy: 0.9944\n",
      "Epoch 45/80\n",
      "82532/82532 [==============================] - 22s 269us/step - loss: 0.0187 - acc: 0.9941 - categorical_accuracy: 0.9941\n",
      "Epoch 46/80\n",
      "82532/82532 [==============================] - 23s 273us/step - loss: 0.0194 - acc: 0.9940 - categorical_accuracy: 0.9940\n",
      "Epoch 47/80\n",
      "82532/82532 [==============================] - 23s 278us/step - loss: 0.0190 - acc: 0.9944 - categorical_accuracy: 0.9944\n",
      "Epoch 48/80\n",
      "82532/82532 [==============================] - 22s 271us/step - loss: 0.0180 - acc: 0.9943 - categorical_accuracy: 0.9943\n",
      "Epoch 49/80\n",
      "82532/82532 [==============================] - 22s 271us/step - loss: 0.0183 - acc: 0.9940 - categorical_accuracy: 0.9940\n",
      "Epoch 50/80\n",
      "82532/82532 [==============================] - 22s 270us/step - loss: 0.0160 - acc: 0.9949 - categorical_accuracy: 0.9949\n",
      "Epoch 51/80\n",
      "82532/82532 [==============================] - 22s 270us/step - loss: 0.0193 - acc: 0.9939 - categorical_accuracy: 0.9939\n",
      "Epoch 52/80\n",
      "82532/82532 [==============================] - 23s 273us/step - loss: 0.0148 - acc: 0.9953 - categorical_accuracy: 0.9953\n",
      "Epoch 53/80\n",
      "82532/82532 [==============================] - 24s 288us/step - loss: 0.0159 - acc: 0.9950 - categorical_accuracy: 0.9950\n",
      "Epoch 54/80\n",
      "82532/82532 [==============================] - 24s 295us/step - loss: 0.0150 - acc: 0.9951 - categorical_accuracy: 0.9951\n",
      "Epoch 55/80\n",
      "82532/82532 [==============================] - 25s 301us/step - loss: 0.0177 - acc: 0.9946 - categorical_accuracy: 0.9946\n",
      "Epoch 56/80\n",
      "82532/82532 [==============================] - 25s 301us/step - loss: 0.0131 - acc: 0.9956 - categorical_accuracy: 0.9956\n",
      "Epoch 57/80\n",
      "82532/82532 [==============================] - 23s 276us/step - loss: 0.0151 - acc: 0.9951 - categorical_accuracy: 0.9951\n",
      "Epoch 58/80\n",
      "82532/82532 [==============================] - 22s 272us/step - loss: 0.0165 - acc: 0.9949 - categorical_accuracy: 0.9949\n",
      "Epoch 59/80\n",
      "82532/82532 [==============================] - 22s 270us/step - loss: 0.0183 - acc: 0.9947 - categorical_accuracy: 0.9947\n",
      "Epoch 60/80\n",
      "82532/82532 [==============================] - 23s 275us/step - loss: 0.0161 - acc: 0.9951 - categorical_accuracy: 0.9951\n",
      "Epoch 61/80\n",
      "82532/82532 [==============================] - 23s 278us/step - loss: 0.0149 - acc: 0.9952 - categorical_accuracy: 0.9952\n",
      "Epoch 62/80\n",
      "82532/82532 [==============================] - 20s 248us/step - loss: 0.0172 - acc: 0.9951 - categorical_accuracy: 0.9951\n",
      "Epoch 63/80\n",
      "82532/82532 [==============================] - 21s 259us/step - loss: 0.0146 - acc: 0.9953 - categorical_accuracy: 0.9953\n",
      "Epoch 64/80\n",
      "82532/82532 [==============================] - 23s 274us/step - loss: 0.0156 - acc: 0.9950 - categorical_accuracy: 0.9950\n",
      "Epoch 65/80\n",
      "82532/82532 [==============================] - 20s 246us/step - loss: 0.0146 - acc: 0.9957 - categorical_accuracy: 0.9957\n",
      "Epoch 66/80\n",
      "82532/82532 [==============================] - 19s 227us/step - loss: 0.0139 - acc: 0.9956 - categorical_accuracy: 0.9956\n",
      "Epoch 67/80\n",
      "82532/82532 [==============================] - 19s 227us/step - loss: 0.0175 - acc: 0.9946 - categorical_accuracy: 0.9946\n",
      "Epoch 68/80\n",
      "82532/82532 [==============================] - 21s 258us/step - loss: 0.0128 - acc: 0.9959 - categorical_accuracy: 0.9959\n",
      "Epoch 69/80\n",
      "82532/82532 [==============================] - 21s 252us/step - loss: 0.0150 - acc: 0.9955 - categorical_accuracy: 0.9955\n",
      "Epoch 70/80\n",
      "82532/82532 [==============================] - 24s 295us/step - loss: 0.0126 - acc: 0.9961 - categorical_accuracy: 0.9961\n",
      "Epoch 71/80\n",
      "82532/82532 [==============================] - 23s 278us/step - loss: 0.0116 - acc: 0.9961 - categorical_accuracy: 0.9961\n",
      "Epoch 72/80\n",
      "82532/82532 [==============================] - 23s 283us/step - loss: 0.0150 - acc: 0.9953 - categorical_accuracy: 0.9953\n",
      "Epoch 73/80\n",
      "82532/82532 [==============================] - 23s 278us/step - loss: 0.0132 - acc: 0.9960 - categorical_accuracy: 0.9960\n",
      "Epoch 74/80\n",
      "82532/82532 [==============================] - 23s 283us/step - loss: 0.0139 - acc: 0.9958 - categorical_accuracy: 0.9958\n",
      "Epoch 75/80\n",
      "82532/82532 [==============================] - 23s 279us/step - loss: 0.0122 - acc: 0.9963 - categorical_accuracy: 0.9963\n",
      "Epoch 76/80\n",
      "82532/82532 [==============================] - 23s 278us/step - loss: 0.0138 - acc: 0.9958 - categorical_accuracy: 0.9958\n",
      "Epoch 77/80\n",
      "82532/82532 [==============================] - 23s 278us/step - loss: 0.0132 - acc: 0.9961 - categorical_accuracy: 0.9961\n",
      "Epoch 78/80\n",
      "82532/82532 [==============================] - 23s 279us/step - loss: 0.0125 - acc: 0.9958 - categorical_accuracy: 0.9958\n",
      "Epoch 79/80\n",
      "82532/82532 [==============================] - 23s 281us/step - loss: 0.0133 - acc: 0.9957 - categorical_accuracy: 0.9957\n",
      "Epoch 80/80\n",
      "82532/82532 [==============================] - 23s 282us/step - loss: 0.0114 - acc: 0.9964 - categorical_accuracy: 0.9964\n"
     ]
    },
    {
     "data": {
      "text/plain": [
       "<keras.callbacks.History at 0x7f5999654048>"
      ]
     },
     "execution_count": 142,
     "metadata": {},
     "output_type": "execute_result"
    }
   ],
   "source": [
    "cnn.fit(x_train, y_train, epochs=60, batch_size=32)"
   ]
  },
  {
   "cell_type": "code",
   "execution_count": 25,
   "metadata": {},
   "outputs": [
    {
     "data": {
      "text/plain": [
       "[0.08930241,\n",
       " 0.061083462,\n",
       " 0.06512754,\n",
       " 0.07934572,\n",
       " 0.07686524,\n",
       " 0.045783937,\n",
       " 0.061086465,\n",
       " 0.13617136,\n",
       " 0.20177619,\n",
       " 0.22235863,\n",
       " 0.14132403,\n",
       " 0.06219078,\n",
       " 0.09928144,\n",
       " 0.14022745,\n",
       " 0.18018983,\n",
       " 0.21087098,\n",
       " 0.12856553,\n",
       " 0.3047009,\n",
       " 0.48970455,\n",
       " 0.43872887,\n",
       " 0.26132843,\n",
       " 0.23718484,\n",
       " 0.35855338,\n",
       " 0.39988908,\n",
       " 0.25129542,\n",
       " 0.17558765,\n",
       " 0.21118222,\n",
       " 0.22424649,\n",
       " 0.22884478,\n",
       " 0.14240466,\n",
       " 0.063991025,\n",
       " 0.062215444,\n",
       " 0.07119801,\n",
       " 0.09277696,\n",
       " 0.086751595,\n",
       " 0.08175558,\n",
       " 0.08978126,\n",
       " 0.11500022,\n",
       " 0.13534124,\n",
       " 0.09840687,\n",
       " 0.09615819,\n",
       " 0.09359415,\n",
       " 0.11746682,\n",
       " 0.1755925,\n",
       " 0.16706069,\n",
       " 0.16603717,\n",
       " 0.1702081,\n",
       " 0.15985386,\n",
       " 0.177189,\n",
       " 0.14796974,\n",
       " 0.3517113,\n",
       " 0.32134882,\n",
       " 0.1928672,\n",
       " 0.098692015,\n",
       " 0.06992751,\n",
       " 0.077690944,\n",
       " 0.07979451,\n",
       " 0.044417202,\n",
       " 0.031480458,\n",
       " 0.026336467,\n",
       " 0.05299853,\n",
       " 0.06385292,\n",
       " 0.03622871,\n",
       " 0.03154725,\n",
       " 0.03174737,\n",
       " 0.034744397,\n",
       " 0.033262424,\n",
       " 0.030533077,\n",
       " 0.05149208,\n",
       " 0.06188948,\n",
       " 0.06074236,\n",
       " 0.10969246,\n",
       " 0.06698955,\n",
       " 0.06188907,\n",
       " 0.08913668,\n",
       " 0.03628293,\n",
       " 0.07011147,\n",
       " 0.07468096,\n",
       " 0.093266256,\n",
       " 0.05825542,\n",
       " 0.07106646,\n",
       " 0.22342832,\n",
       " 0.09635605,\n",
       " 0.050213706,\n",
       " 0.050072145,\n",
       " 0.015547391,\n",
       " 0.020194847,\n",
       " 0.042126525,\n",
       " 0.03730693,\n",
       " 0.03696282,\n",
       " 0.019549482,\n",
       " 0.06898926,\n",
       " 0.12138191,\n",
       " 0.15211913,\n",
       " 0.120566934,\n",
       " 0.057710342,\n",
       " 0.14008531,\n",
       " 0.15046027,\n",
       " 0.18124469,\n",
       " 0.16925365]"
      ]
     },
     "execution_count": 25,
     "metadata": {},
     "output_type": "execute_result"
    }
   ],
   "source": [
    "test = np.reshape(x_train[0:100], (len(x_train[0:100]), 60, 1))\n",
    "\n",
    "\n",
    "[x[1] for x in cnn.predict(test)]"
   ]
  },
  {
   "cell_type": "code",
   "execution_count": 27,
   "metadata": {},
   "outputs": [
    {
     "data": {
      "text/plain": [
       "array([0, 0, 0, 0, 0, 0, 0, 0, 0, 0, 0, 0, 0, 0, 0, 0, 0, 0, 0, 0, 0, 0,\n",
       "       0, 0, 0, 0, 0, 0, 0, 0, 0, 0, 0, 0, 0, 0, 0, 0, 0, 0, 0, 0, 0, 0,\n",
       "       0, 0, 0, 0, 0, 0, 0, 0, 0, 0, 0, 0, 0, 0, 0, 0, 0, 0, 0, 0, 0, 0,\n",
       "       0, 0, 0, 0, 0, 0, 0, 0, 0, 0, 0, 0, 0, 0, 0, 0, 0, 0, 0, 0, 0, 0,\n",
       "       0, 0, 0, 0, 0, 0, 0, 0, 0, 0, 0, 0])"
      ]
     },
     "execution_count": 27,
     "metadata": {},
     "output_type": "execute_result"
    }
   ],
   "source": [
    "cnn.predict_classes(test)"
   ]
  },
  {
   "cell_type": "code",
   "execution_count": 28,
   "metadata": {},
   "outputs": [
    {
     "ename": "NameError",
     "evalue": "name 'read' is not defined",
     "output_type": "error",
     "traceback": [
      "\u001b[0;31m---------------------------------------------------------------------------\u001b[0m",
      "\u001b[0;31mNameError\u001b[0m                                 Traceback (most recent call last)",
      "\u001b[0;32m<ipython-input-28-1d0997d3372c>\u001b[0m in \u001b[0;36m<module>\u001b[0;34m\u001b[0m\n\u001b[0;32m----> 1\u001b[0;31m \u001b[0mtr\u001b[0m \u001b[0;34m=\u001b[0m \u001b[0mread\u001b[0m\u001b[0;34m(\u001b[0m\u001b[0;34m'/home/irene/Documents/Datos-Tesis/Estaciones/PEZE.HHZ.2018.337.16.57.18.sac'\u001b[0m\u001b[0;34m)\u001b[0m\u001b[0;34m[\u001b[0m\u001b[0;36m0\u001b[0m\u001b[0;34m]\u001b[0m\u001b[0;34m\u001b[0m\u001b[0;34m\u001b[0m\u001b[0m\n\u001b[0m",
      "\u001b[0;31mNameError\u001b[0m: name 'read' is not defined"
     ]
    }
   ],
   "source": [
    "tr = read('/home/irene/Documents/Datos-Tesis/Estaciones/PEZE.HHZ.2018.337.16.57.18.sac')[0]\n"
   ]
  },
  {
   "cell_type": "code",
   "execution_count": 145,
   "metadata": {},
   "outputs": [],
   "source": [
    "import numpy as np \n",
    "import matplotlib.pyplot as plt\n",
    "from obspy.core import read, UTCDateTime\n",
    "from obspy.io.sac.util import get_sac_reftime\n",
    "from obspy.signal.filter import lowpass, bandpass, highpass\n",
    "\n",
    "\n",
    "tr = read('/home/irene/Documents/Datos-Tesis/Estaciones/BATAN.HHZ.2018.337.16.57.18.sac')[0]\n",
    "\n",
    "tr.filter('bandpass', freqmin=1.0, freqmax=10.0, corners=4, zerophase=True)\n",
    "tr.normalize()\n",
    "# picker_p = int(tr.stats.sac.a * tr.stats.sampling_rate)\n",
    "\n",
    "data = tr.data"
   ]
  },
  {
   "cell_type": "code",
   "execution_count": 146,
   "metadata": {},
   "outputs": [],
   "source": [
    "size = 60\n",
    "input_dataset = np.zeros(shape=(0, size))\n",
    "current_index = 0\n",
    "\n",
    "while current_index < len(data):\n",
    "    if current_index + size > len(data):\n",
    "        difference = len(data) - current_index\n",
    "        x = data[current_index:current_index+difference]\n",
    "        difference2 = size - difference\n",
    "        x = np.append(x, np.zeros(difference2))\n",
    "    else:\n",
    "        x = data[current_index:current_index+size]\n",
    "\n",
    "    input_dataset = np.vstack((input_dataset, x))\n",
    "\n",
    "    current_index = current_index + 1"
   ]
  },
  {
   "cell_type": "code",
   "execution_count": 147,
   "metadata": {},
   "outputs": [],
   "source": [
    "input_dataset = np.reshape(input_dataset, (len(input_dataset), size, 1))\n"
   ]
  },
  {
   "cell_type": "code",
   "execution_count": 148,
   "metadata": {},
   "outputs": [],
   "source": [
    "output = [x[1] for x in cnn.predict(input_dataset)]"
   ]
  },
  {
   "cell_type": "code",
   "execution_count": 40,
   "metadata": {},
   "outputs": [],
   "source": [
    "def running_mean(x, N):\n",
    "    cumsum = np.cumsum(np.insert(x, 0, 0)) \n",
    "    return (cumsum[N:] - cumsum[:-N]) / float(N)"
   ]
  },
  {
   "cell_type": "code",
   "execution_count": 149,
   "metadata": {},
   "outputs": [],
   "source": [
    "output_running_mean = running_mean(output, size)"
   ]
  },
  {
   "cell_type": "code",
   "execution_count": 150,
   "metadata": {},
   "outputs": [
    {
     "data": {
      "text/plain": [
       "59941"
      ]
     },
     "execution_count": 150,
     "metadata": {},
     "output_type": "execute_result"
    }
   ],
   "source": [
    "len(output_running_mean)"
   ]
  },
  {
   "cell_type": "code",
   "execution_count": 151,
   "metadata": {},
   "outputs": [
    {
     "data": {
      "text/plain": [
       "60000"
      ]
     },
     "execution_count": 151,
     "metadata": {},
     "output_type": "execute_result"
    }
   ],
   "source": [
    "len(input_dataset)"
   ]
  },
  {
   "cell_type": "code",
   "execution_count": 152,
   "metadata": {},
   "outputs": [
    {
     "data": {
      "text/plain": [
       "60000"
      ]
     },
     "execution_count": 152,
     "metadata": {},
     "output_type": "execute_result"
    }
   ],
   "source": [
    "len(data)"
   ]
  },
  {
   "cell_type": "code",
   "execution_count": 153,
   "metadata": {},
   "outputs": [],
   "source": [
    "guess = np.argmax(output_running_mean)"
   ]
  },
  {
   "cell_type": "code",
   "execution_count": 154,
   "metadata": {},
   "outputs": [
    {
     "data": {
      "text/plain": [
       "20510"
      ]
     },
     "execution_count": 154,
     "metadata": {},
     "output_type": "execute_result"
    }
   ],
   "source": [
    "guess"
   ]
  },
  {
   "cell_type": "code",
   "execution_count": 128,
   "metadata": {},
   "outputs": [
    {
     "data": {
      "text/plain": [
       "13415"
      ]
     },
     "execution_count": 128,
     "metadata": {},
     "output_type": "execute_result"
    }
   ],
   "source": [
    "picker_p"
   ]
  },
  {
   "cell_type": "code",
   "execution_count": 155,
   "metadata": {},
   "outputs": [
    {
     "data": {
      "image/png": "[encoded data removed]",
      "text/plain": [
       "<Figure size 3600x720 with 1 Axes>"
      ]
     },
     "metadata": {
      "needs_background": "light"
     },
     "output_type": "display_data"
    }
   ],
   "source": [
    "plt.figure(figsize=(50,10))\n",
    "plt.plot(data)\n",
    "#plt.axvline(x=picker_p , color='red')\n",
    "plt.axvline(x=guess , color='green')\n",
    "plt.xlabel('Time')\n",
    "plt.ylabel('Amplitude')\n",
    "\n",
    "#plt.show()\n",
    "plt.savefig('Test.png')      "
   ]
  },
  {
   "cell_type": "code",
   "execution_count": null,
   "metadata": {},
   "outputs": [],
   "source": []
  }
 ],
 "metadata": {
  "kernelspec": {
   "display_name": "obspy",
   "language": "python",
   "name": "obspy"
  },
  "language_info": {
   "codemirror_mode": {
    "name": "ipython",
    "version": 3
   },
   "file_extension": ".py",
   "mimetype": "text/x-python",
   "name": "python",
   "nbconvert_exporter": "python",
   "pygments_lexer": "ipython3",
   "version": "3.6.7"
  }
 },
 "nbformat": 4,
 "nbformat_minor": 2
}
