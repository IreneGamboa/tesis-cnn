{
 "cells": [
  {
   "cell_type": "code",
   "execution_count": 1,
   "metadata": {},
   "outputs": [
    {
     "name": "stderr",
     "output_type": "stream",
     "text": [
      "Using TensorFlow backend.\n"
     ]
    }
   ],
   "source": [
    "from sklearn.preprocessing import MinMaxScaler, Normalizer, StandardScaler\n",
    "from keras.models import load_model\n",
    "import os \n"
   ]
  },
  {
   "cell_type": "code",
   "execution_count": 2,
   "metadata": {},
   "outputs": [],
   "source": [
    "def rolling_window(a, window, step_size, padding=True, copy=True):\n",
    "    if copy:\n",
    "        result = a.copy()\n",
    "    else:\n",
    "        result = a\n",
    "    if padding:\n",
    "        result = np.hstack((result, np.zeros(window)))\n",
    "    shape = result.shape[:-1] + (result.shape[-1] - window + 1 - step_size, window)\n",
    "    strides = result.strides + (result.strides[-1] * step_size,)\n",
    "    return np.lib.stride_tricks.as_strided(result, shape=shape, strides=strides)\n",
    "\n",
    "def running_mean(x, N):\n",
    "    cumsum = np.cumsum(np.insert(x, 0, 0)) \n",
    "    return (cumsum[N:] - cumsum[:-N]) / float(N)"
   ]
  },
  {
   "cell_type": "code",
   "execution_count": 3,
   "metadata": {},
   "outputs": [],
   "source": [
    "import numpy as np\n",
    "import matplotlib.pyplot as plt\n",
    "from obspy.core import read, UTCDateTime\n",
    "from obspy.io.sac.util import get_sac_reftime\n",
    "from obspy.signal.filter import lowpass, bandpass, highpass\n",
    "import datetime\n",
    "\n",
    "\n",
    "def picker_p_predict(file, scaler, normalizer, file_cnn, size):\n",
    "    cnn = load_model(file_cnn)\n",
    "    p_is_defined = False\n",
    "    tr = read(file)[0]\n",
    "    if tr.stats.npts >= size :\n",
    "        tr.filter('bandpass', freqmin=1.0, freqmax=10.0, corners=4, zerophase=True)\n",
    "        tr.normalize()\n",
    "        \n",
    "        if 'a' in tr.stats.sac and tr.stats.sac.a is not None: \n",
    "            picker_p = int(tr.stats.sac.a * tr.stats.sampling_rate)\n",
    "            p_is_defined = True\n",
    "        \n",
    "        data = tr.data\n",
    "\n",
    "        #Escalar datos antes de hacer el window\n",
    "        if scaler == 'min_max_scaler':\n",
    "            scaler = MinMaxScaler()\n",
    "        elif scaler == 'standard_scaler':\n",
    "            scaler = StandardScaler()\n",
    "        elif scaler == 'min_max_scaler_1':\n",
    "            scaler = MinMaxScaler(feature_range=(-1, 1))\n",
    "        scaler = scaler.fit(tr.data.reshape(-1, 1))\n",
    "        x = scaler.transform(tr.data.reshape(1, -1))[0]\n",
    "        if normalizer:\n",
    "            normalizer = Normalizer().fit(tr.data.reshape(-1, 1))\n",
    "            x = normalizer.transform(x.reshape(1, -1))[0]\n",
    "        \n",
    "        input_dataset = rolling_window(x, size, 1)\n",
    "\n",
    "        input_dataset = np.reshape(input_dataset, (len(input_dataset), size, 1))\n",
    "        output = [x[1] for x in cnn.predict(input_dataset)]\n",
    "        output_running_mean = running_mean(output, size)\n",
    "        guess = np.argmax(output_running_mean)\n",
    "\n",
    "\n",
    "        plt.figure(figsize=(50,10))\n",
    "        plt.plot(tr.times(), data)\n",
    "\n",
    "        if p_is_defined:\n",
    "            plt.axvline(x=(picker_p*tr.stats.delta) , color='red')\n",
    "            print(\"picker_p:\", picker_p)\n",
    "\n",
    "        plt.axvline(x=(guess*tr.stats.delta) , color='green', drawstyle =\"steps-pre\") \n",
    "        print(\"guess:\", guess)\n",
    "        plt.xlabel('Time')\n",
    "        plt.ylabel('Amplitude')\n",
    "\n",
    "    #     plt.show()\n",
    "        datetime_object = datetime.datetime.now()\n",
    "        print(datetime_object)\n",
    "        cnn_name = file_cnn.split(\"/\")[6].split(\".\")[0] + \"/\"\n",
    "        cnn_name = '/home/irene/Documents/Resultados/'+cnn_name\n",
    "        print(cnn_name)\n",
    "        if not os.path.exists(cnn_name):\n",
    "            os.mkdir(cnn_name)\n",
    "        file_png = cnn_name+tr.stats.station+'_'+datetime_object.strftime('%m-%d-%Y::%H-%M')+'.png'\n",
    "        print(file_png)\n",
    "        plt.savefig(file_png)\n",
    "        plt.close()"
   ]
  },
  {
   "cell_type": "code",
   "execution_count": null,
   "metadata": {
    "scrolled": true
   },
   "outputs": [
    {
     "name": "stdout",
     "output_type": "stream",
     "text": [
      "/home/irene/Documents/Datos-Tesis/Estaciones/2010.181.195432.SAC\n",
      "WARNING:tensorflow:From /home/irene/virtualenvs/obspy/lib/python3.6/site-packages/tensorflow/python/framework/op_def_library.py:263: colocate_with (from tensorflow.python.framework.ops) is deprecated and will be removed in a future version.\n",
      "Instructions for updating:\n",
      "Colocations handled automatically by placer.\n",
      "WARNING:tensorflow:From /home/irene/virtualenvs/obspy/lib/python3.6/site-packages/tensorflow/python/ops/math_ops.py:3066: to_int32 (from tensorflow.python.ops.math_ops) is deprecated and will be removed in a future version.\n",
      "Instructions for updating:\n",
      "Use tf.cast instead.\n",
      "picker_p: 2290\n",
      "guess: 251\n",
      "2019-06-29 20:29:25.312314\n",
      "/home/irene/Documents/Resultados/01d880d6-9765-11e9-a0d3-f4e9d4c27a82/\n",
      "/home/irene/Documents/Resultados/01d880d6-9765-11e9-a0d3-f4e9d4c27a82/OCM_06-29-2019::20-29.png\n",
      "picker_p: 2290\n",
      "guess: 0\n",
      "2019-06-29 20:29:27.348596\n",
      "/home/irene/Documents/Resultados/3a90ef36-98a4-11e9-a0d3-f4e9d4c27a82/\n",
      "/home/irene/Documents/Resultados/3a90ef36-98a4-11e9-a0d3-f4e9d4c27a82/OCM_06-29-2019::20-29.png\n",
      "picker_p: 2290\n",
      "guess: 264\n",
      "2019-06-29 20:29:29.027657\n",
      "/home/irene/Documents/Resultados/4fa7af9e-97a6-11e9-a0d3-f4e9d4c27a82/\n",
      "/home/irene/Documents/Resultados/4fa7af9e-97a6-11e9-a0d3-f4e9d4c27a82/OCM_06-29-2019::20-29.png\n",
      "picker_p: 2290\n",
      "guess: 264\n",
      "2019-06-29 20:29:30.905912\n",
      "/home/irene/Documents/Resultados/5b77bc48-97eb-11e9-a0d3-f4e9d4c27a82/\n",
      "/home/irene/Documents/Resultados/5b77bc48-97eb-11e9-a0d3-f4e9d4c27a82/OCM_06-29-2019::20-29.png\n",
      "/home/irene/Documents/Datos-Tesis/Estaciones/ACHA.HHZ.2019.088.14.45.11\n",
      "picker_p: 57437\n",
      "guess: 56861\n",
      "2019-06-29 20:29:50.335789\n",
      "/home/irene/Documents/Resultados/0b3c148e-977a-11e9-a0d3-f4e9d4c27a82/\n",
      "/home/irene/Documents/Resultados/0b3c148e-977a-11e9-a0d3-f4e9d4c27a82/ACHA_06-29-2019::20-29.png\n",
      "picker_p: 57437\n",
      "guess: 57589\n",
      "2019-06-29 20:29:57.680485\n",
      "/home/irene/Documents/Resultados/01d880d6-9765-11e9-a0d3-f4e9d4c27a82/\n",
      "/home/irene/Documents/Resultados/01d880d6-9765-11e9-a0d3-f4e9d4c27a82/ACHA_06-29-2019::20-29.png\n",
      "picker_p: 57437\n",
      "guess: 57183\n",
      "2019-06-29 20:31:38.761774\n",
      "/home/irene/Documents/Resultados/3a90ef36-98a4-11e9-a0d3-f4e9d4c27a82/\n",
      "/home/irene/Documents/Resultados/3a90ef36-98a4-11e9-a0d3-f4e9d4c27a82/ACHA_06-29-2019::20-31.png\n",
      "picker_p: 57437\n",
      "guess: 57401\n",
      "2019-06-29 20:31:45.305772\n",
      "/home/irene/Documents/Resultados/4fa7af9e-97a6-11e9-a0d3-f4e9d4c27a82/\n",
      "/home/irene/Documents/Resultados/4fa7af9e-97a6-11e9-a0d3-f4e9d4c27a82/ACHA_06-29-2019::20-31.png\n",
      "picker_p: 57437\n",
      "guess: 57402\n",
      "2019-06-29 20:31:51.778824\n",
      "/home/irene/Documents/Resultados/5b77bc48-97eb-11e9-a0d3-f4e9d4c27a82/\n",
      "/home/irene/Documents/Resultados/5b77bc48-97eb-11e9-a0d3-f4e9d4c27a82/ACHA_06-29-2019::20-31.png\n",
      "picker_p: 57437\n",
      "guess: 56861\n",
      "2019-06-29 20:32:26.344256\n",
      "/home/irene/Documents/Resultados/2c1c327e-9707-11e9-a0d3-f4e9d4c27a82/\n",
      "/home/irene/Documents/Resultados/2c1c327e-9707-11e9-a0d3-f4e9d4c27a82/ACHA_06-29-2019::20-32.png\n",
      "/home/irene/Documents/Datos-Tesis/Estaciones/BATAN.HHZ.2018.337.16.57.18.sac\n",
      "guess: 13766\n",
      "2019-06-29 20:32:36.687479\n",
      "/home/irene/Documents/Resultados/0b3c148e-977a-11e9-a0d3-f4e9d4c27a82/\n",
      "/home/irene/Documents/Resultados/0b3c148e-977a-11e9-a0d3-f4e9d4c27a82/BATAN_06-29-2019::20-32.png\n",
      "guess: 14963\n",
      "2019-06-29 20:32:42.361574\n",
      "/home/irene/Documents/Resultados/01d880d6-9765-11e9-a0d3-f4e9d4c27a82/\n",
      "/home/irene/Documents/Resultados/01d880d6-9765-11e9-a0d3-f4e9d4c27a82/BATAN_06-29-2019::20-32.png\n",
      "guess: 14157\n",
      "2019-06-29 20:33:35.249589\n",
      "/home/irene/Documents/Resultados/3a90ef36-98a4-11e9-a0d3-f4e9d4c27a82/\n",
      "/home/irene/Documents/Resultados/3a90ef36-98a4-11e9-a0d3-f4e9d4c27a82/BATAN_06-29-2019::20-33.png\n",
      "guess: 14495\n",
      "2019-06-29 20:33:40.658633\n",
      "/home/irene/Documents/Resultados/4fa7af9e-97a6-11e9-a0d3-f4e9d4c27a82/\n",
      "/home/irene/Documents/Resultados/4fa7af9e-97a6-11e9-a0d3-f4e9d4c27a82/BATAN_06-29-2019::20-33.png\n",
      "guess: 14359\n",
      "2019-06-29 20:33:46.058750\n",
      "/home/irene/Documents/Resultados/5b77bc48-97eb-11e9-a0d3-f4e9d4c27a82/\n",
      "/home/irene/Documents/Resultados/5b77bc48-97eb-11e9-a0d3-f4e9d4c27a82/BATAN_06-29-2019::20-33.png\n",
      "guess: 13699\n",
      "2019-06-29 20:34:06.442545\n",
      "/home/irene/Documents/Resultados/2c1c327e-9707-11e9-a0d3-f4e9d4c27a82/\n",
      "/home/irene/Documents/Resultados/2c1c327e-9707-11e9-a0d3-f4e9d4c27a82/BATAN_06-29-2019::20-34.png\n",
      "/home/irene/Documents/Datos-Tesis/Estaciones/BATAN.HHZ.2019.088.14.45.11\n",
      "picker_p: 55436\n",
      "guess: 55963\n",
      "2019-06-29 20:34:26.293780\n",
      "/home/irene/Documents/Resultados/0b3c148e-977a-11e9-a0d3-f4e9d4c27a82/\n",
      "/home/irene/Documents/Resultados/0b3c148e-977a-11e9-a0d3-f4e9d4c27a82/BATAN_06-29-2019::20-34.png\n",
      "picker_p: 55436\n",
      "guess: 55379\n",
      "2019-06-29 20:34:36.207787\n",
      "/home/irene/Documents/Resultados/01d880d6-9765-11e9-a0d3-f4e9d4c27a82/\n",
      "/home/irene/Documents/Resultados/01d880d6-9765-11e9-a0d3-f4e9d4c27a82/BATAN_06-29-2019::20-34.png\n",
      "picker_p: 55436\n",
      "guess: 55048\n",
      "2019-06-29 20:36:19.335283\n",
      "/home/irene/Documents/Resultados/3a90ef36-98a4-11e9-a0d3-f4e9d4c27a82/\n",
      "/home/irene/Documents/Resultados/3a90ef36-98a4-11e9-a0d3-f4e9d4c27a82/BATAN_06-29-2019::20-36.png\n",
      "picker_p: 55436\n",
      "guess: 55382\n",
      "2019-06-29 20:36:27.530921\n",
      "/home/irene/Documents/Resultados/4fa7af9e-97a6-11e9-a0d3-f4e9d4c27a82/\n",
      "/home/irene/Documents/Resultados/4fa7af9e-97a6-11e9-a0d3-f4e9d4c27a82/BATAN_06-29-2019::20-36.png\n"
     ]
    },
    {
     "name": "stderr",
     "output_type": "stream",
     "text": [
      "/home/irene/virtualenvs/obspy/lib/python3.6/site-packages/matplotlib/pyplot.py:514: RuntimeWarning: More than 20 figures have been opened. Figures created through the pyplot interface (`matplotlib.pyplot.figure`) are retained until explicitly closed and may consume too much memory. (To control this warning, see the rcParam `figure.max_open_warning`).\n",
      "  max_open_warning, RuntimeWarning)\n"
     ]
    },
    {
     "name": "stdout",
     "output_type": "stream",
     "text": [
      "picker_p: 55436\n",
      "guess: 55384\n",
      "2019-06-29 20:36:37.025638\n",
      "/home/irene/Documents/Resultados/5b77bc48-97eb-11e9-a0d3-f4e9d4c27a82/\n",
      "/home/irene/Documents/Resultados/5b77bc48-97eb-11e9-a0d3-f4e9d4c27a82/BATAN_06-29-2019::20-36.png\n"
     ]
    },
    {
     "name": "stderr",
     "output_type": "stream",
     "text": [
      "/home/irene/virtualenvs/obspy/lib/python3.6/site-packages/matplotlib/pyplot.py:514: RuntimeWarning: More than 20 figures have been opened. Figures created through the pyplot interface (`matplotlib.pyplot.figure`) are retained until explicitly closed and may consume too much memory. (To control this warning, see the rcParam `figure.max_open_warning`).\n",
      "  max_open_warning, RuntimeWarning)\n"
     ]
    },
    {
     "name": "stdout",
     "output_type": "stream",
     "text": [
      "picker_p: 55436\n",
      "guess: 54762\n",
      "2019-06-29 20:37:14.147965\n",
      "/home/irene/Documents/Resultados/2c1c327e-9707-11e9-a0d3-f4e9d4c27a82/\n",
      "/home/irene/Documents/Resultados/2c1c327e-9707-11e9-a0d3-f4e9d4c27a82/BATAN_06-29-2019::20-37.png\n",
      "/home/irene/Documents/Datos-Tesis/Estaciones/CALV.HHZ.2018.337.16.57.18.sac\n"
     ]
    },
    {
     "name": "stderr",
     "output_type": "stream",
     "text": [
      "/home/irene/virtualenvs/obspy/lib/python3.6/site-packages/matplotlib/pyplot.py:514: RuntimeWarning: More than 20 figures have been opened. Figures created through the pyplot interface (`matplotlib.pyplot.figure`) are retained until explicitly closed and may consume too much memory. (To control this warning, see the rcParam `figure.max_open_warning`).\n",
      "  max_open_warning, RuntimeWarning)\n"
     ]
    },
    {
     "name": "stdout",
     "output_type": "stream",
     "text": [
      "picker_p: 12257\n",
      "guess: 11549\n",
      "2019-06-29 20:37:26.666861\n",
      "/home/irene/Documents/Resultados/0b3c148e-977a-11e9-a0d3-f4e9d4c27a82/\n",
      "/home/irene/Documents/Resultados/0b3c148e-977a-11e9-a0d3-f4e9d4c27a82/CALV_06-29-2019::20-37.png\n"
     ]
    },
    {
     "name": "stderr",
     "output_type": "stream",
     "text": [
      "/home/irene/virtualenvs/obspy/lib/python3.6/site-packages/matplotlib/pyplot.py:514: RuntimeWarning: More than 20 figures have been opened. Figures created through the pyplot interface (`matplotlib.pyplot.figure`) are retained until explicitly closed and may consume too much memory. (To control this warning, see the rcParam `figure.max_open_warning`).\n",
      "  max_open_warning, RuntimeWarning)\n"
     ]
    },
    {
     "name": "stdout",
     "output_type": "stream",
     "text": [
      "picker_p: 12257\n",
      "guess: 12183\n",
      "2019-06-29 20:37:34.285017\n",
      "/home/irene/Documents/Resultados/01d880d6-9765-11e9-a0d3-f4e9d4c27a82/\n",
      "/home/irene/Documents/Resultados/01d880d6-9765-11e9-a0d3-f4e9d4c27a82/CALV_06-29-2019::20-37.png\n"
     ]
    },
    {
     "name": "stderr",
     "output_type": "stream",
     "text": [
      "/home/irene/virtualenvs/obspy/lib/python3.6/site-packages/matplotlib/pyplot.py:514: RuntimeWarning: More than 20 figures have been opened. Figures created through the pyplot interface (`matplotlib.pyplot.figure`) are retained until explicitly closed and may consume too much memory. (To control this warning, see the rcParam `figure.max_open_warning`).\n",
      "  max_open_warning, RuntimeWarning)\n"
     ]
    },
    {
     "name": "stdout",
     "output_type": "stream",
     "text": [
      "picker_p: 12257\n",
      "guess: 11938\n",
      "2019-06-29 20:38:29.462249\n",
      "/home/irene/Documents/Resultados/3a90ef36-98a4-11e9-a0d3-f4e9d4c27a82/\n",
      "/home/irene/Documents/Resultados/3a90ef36-98a4-11e9-a0d3-f4e9d4c27a82/CALV_06-29-2019::20-38.png\n"
     ]
    },
    {
     "name": "stderr",
     "output_type": "stream",
     "text": [
      "/home/irene/virtualenvs/obspy/lib/python3.6/site-packages/matplotlib/pyplot.py:514: RuntimeWarning: More than 20 figures have been opened. Figures created through the pyplot interface (`matplotlib.pyplot.figure`) are retained until explicitly closed and may consume too much memory. (To control this warning, see the rcParam `figure.max_open_warning`).\n",
      "  max_open_warning, RuntimeWarning)\n"
     ]
    },
    {
     "name": "stdout",
     "output_type": "stream",
     "text": [
      "picker_p: 12257\n",
      "guess: 12201\n",
      "2019-06-29 20:38:37.461187\n",
      "/home/irene/Documents/Resultados/4fa7af9e-97a6-11e9-a0d3-f4e9d4c27a82/\n",
      "/home/irene/Documents/Resultados/4fa7af9e-97a6-11e9-a0d3-f4e9d4c27a82/CALV_06-29-2019::20-38.png\n"
     ]
    },
    {
     "name": "stderr",
     "output_type": "stream",
     "text": [
      "/home/irene/virtualenvs/obspy/lib/python3.6/site-packages/matplotlib/pyplot.py:514: RuntimeWarning: More than 20 figures have been opened. Figures created through the pyplot interface (`matplotlib.pyplot.figure`) are retained until explicitly closed and may consume too much memory. (To control this warning, see the rcParam `figure.max_open_warning`).\n",
      "  max_open_warning, RuntimeWarning)\n"
     ]
    },
    {
     "name": "stdout",
     "output_type": "stream",
     "text": [
      "picker_p: 12257\n",
      "guess: 25391\n",
      "2019-06-29 20:38:45.365927\n",
      "/home/irene/Documents/Resultados/5b77bc48-97eb-11e9-a0d3-f4e9d4c27a82/\n",
      "/home/irene/Documents/Resultados/5b77bc48-97eb-11e9-a0d3-f4e9d4c27a82/CALV_06-29-2019::20-38.png\n"
     ]
    },
    {
     "name": "stderr",
     "output_type": "stream",
     "text": [
      "/home/irene/virtualenvs/obspy/lib/python3.6/site-packages/matplotlib/pyplot.py:514: RuntimeWarning: More than 20 figures have been opened. Figures created through the pyplot interface (`matplotlib.pyplot.figure`) are retained until explicitly closed and may consume too much memory. (To control this warning, see the rcParam `figure.max_open_warning`).\n",
      "  max_open_warning, RuntimeWarning)\n"
     ]
    },
    {
     "name": "stdout",
     "output_type": "stream",
     "text": [
      "picker_p: 12257\n",
      "guess: 11539\n",
      "2019-06-29 20:39:07.101722\n",
      "/home/irene/Documents/Resultados/2c1c327e-9707-11e9-a0d3-f4e9d4c27a82/\n",
      "/home/irene/Documents/Resultados/2c1c327e-9707-11e9-a0d3-f4e9d4c27a82/CALV_06-29-2019::20-39.png\n",
      "/home/irene/Documents/Datos-Tesis/Estaciones/CCOL.HHZ.2019.088.14.45.11\n"
     ]
    },
    {
     "name": "stderr",
     "output_type": "stream",
     "text": [
      "/home/irene/virtualenvs/obspy/lib/python3.6/site-packages/matplotlib/pyplot.py:514: RuntimeWarning: More than 20 figures have been opened. Figures created through the pyplot interface (`matplotlib.pyplot.figure`) are retained until explicitly closed and may consume too much memory. (To control this warning, see the rcParam `figure.max_open_warning`).\n",
      "  max_open_warning, RuntimeWarning)\n"
     ]
    },
    {
     "name": "stdout",
     "output_type": "stream",
     "text": [
      "picker_p: 56109\n",
      "guess: 55509\n",
      "2019-06-29 20:39:28.405166\n",
      "/home/irene/Documents/Resultados/0b3c148e-977a-11e9-a0d3-f4e9d4c27a82/\n",
      "/home/irene/Documents/Resultados/0b3c148e-977a-11e9-a0d3-f4e9d4c27a82/CCOL_06-29-2019::20-39.png\n"
     ]
    },
    {
     "name": "stderr",
     "output_type": "stream",
     "text": [
      "/home/irene/virtualenvs/obspy/lib/python3.6/site-packages/matplotlib/pyplot.py:514: RuntimeWarning: More than 20 figures have been opened. Figures created through the pyplot interface (`matplotlib.pyplot.figure`) are retained until explicitly closed and may consume too much memory. (To control this warning, see the rcParam `figure.max_open_warning`).\n",
      "  max_open_warning, RuntimeWarning)\n"
     ]
    },
    {
     "name": "stdout",
     "output_type": "stream",
     "text": [
      "picker_p: 56109\n",
      "guess: 56052\n",
      "2019-06-29 20:39:40.696849\n",
      "/home/irene/Documents/Resultados/01d880d6-9765-11e9-a0d3-f4e9d4c27a82/\n",
      "/home/irene/Documents/Resultados/01d880d6-9765-11e9-a0d3-f4e9d4c27a82/CCOL_06-29-2019::20-39.png\n"
     ]
    },
    {
     "name": "stderr",
     "output_type": "stream",
     "text": [
      "/home/irene/virtualenvs/obspy/lib/python3.6/site-packages/matplotlib/pyplot.py:514: RuntimeWarning: More than 20 figures have been opened. Figures created through the pyplot interface (`matplotlib.pyplot.figure`) are retained until explicitly closed and may consume too much memory. (To control this warning, see the rcParam `figure.max_open_warning`).\n",
      "  max_open_warning, RuntimeWarning)\n"
     ]
    },
    {
     "name": "stdout",
     "output_type": "stream",
     "text": [
      "picker_p: 56109\n",
      "guess: 55824\n",
      "2019-06-29 20:41:28.018984\n",
      "/home/irene/Documents/Resultados/3a90ef36-98a4-11e9-a0d3-f4e9d4c27a82/\n",
      "/home/irene/Documents/Resultados/3a90ef36-98a4-11e9-a0d3-f4e9d4c27a82/CCOL_06-29-2019::20-41.png\n"
     ]
    },
    {
     "name": "stderr",
     "output_type": "stream",
     "text": [
      "/home/irene/virtualenvs/obspy/lib/python3.6/site-packages/matplotlib/pyplot.py:514: RuntimeWarning: More than 20 figures have been opened. Figures created through the pyplot interface (`matplotlib.pyplot.figure`) are retained until explicitly closed and may consume too much memory. (To control this warning, see the rcParam `figure.max_open_warning`).\n",
      "  max_open_warning, RuntimeWarning)\n"
     ]
    },
    {
     "name": "stdout",
     "output_type": "stream",
     "text": [
      "picker_p: 56109\n",
      "guess: 56051\n",
      "2019-06-29 20:41:40.381001\n",
      "/home/irene/Documents/Resultados/4fa7af9e-97a6-11e9-a0d3-f4e9d4c27a82/\n",
      "/home/irene/Documents/Resultados/4fa7af9e-97a6-11e9-a0d3-f4e9d4c27a82/CCOL_06-29-2019::20-41.png\n"
     ]
    },
    {
     "name": "stderr",
     "output_type": "stream",
     "text": [
      "/home/irene/virtualenvs/obspy/lib/python3.6/site-packages/matplotlib/pyplot.py:514: RuntimeWarning: More than 20 figures have been opened. Figures created through the pyplot interface (`matplotlib.pyplot.figure`) are retained until explicitly closed and may consume too much memory. (To control this warning, see the rcParam `figure.max_open_warning`).\n",
      "  max_open_warning, RuntimeWarning)\n"
     ]
    },
    {
     "name": "stdout",
     "output_type": "stream",
     "text": [
      "picker_p: 56109\n",
      "guess: 56051\n",
      "2019-06-29 20:41:53.105425\n",
      "/home/irene/Documents/Resultados/5b77bc48-97eb-11e9-a0d3-f4e9d4c27a82/\n",
      "/home/irene/Documents/Resultados/5b77bc48-97eb-11e9-a0d3-f4e9d4c27a82/CCOL_06-29-2019::20-41.png\n"
     ]
    },
    {
     "name": "stderr",
     "output_type": "stream",
     "text": [
      "/home/irene/virtualenvs/obspy/lib/python3.6/site-packages/matplotlib/pyplot.py:514: RuntimeWarning: More than 20 figures have been opened. Figures created through the pyplot interface (`matplotlib.pyplot.figure`) are retained until explicitly closed and may consume too much memory. (To control this warning, see the rcParam `figure.max_open_warning`).\n",
      "  max_open_warning, RuntimeWarning)\n"
     ]
    },
    {
     "name": "stdout",
     "output_type": "stream",
     "text": [
      "picker_p: 56109\n",
      "guess: 55508\n",
      "2019-06-29 20:42:32.769607\n",
      "/home/irene/Documents/Resultados/2c1c327e-9707-11e9-a0d3-f4e9d4c27a82/\n",
      "/home/irene/Documents/Resultados/2c1c327e-9707-11e9-a0d3-f4e9d4c27a82/CCOL_06-29-2019::20-42.png\n",
      "/home/irene/Documents/Datos-Tesis/Estaciones/CDITO.HHZ.2019.088.14.45.11\n"
     ]
    },
    {
     "name": "stderr",
     "output_type": "stream",
     "text": [
      "/home/irene/virtualenvs/obspy/lib/python3.6/site-packages/matplotlib/pyplot.py:514: RuntimeWarning: More than 20 figures have been opened. Figures created through the pyplot interface (`matplotlib.pyplot.figure`) are retained until explicitly closed and may consume too much memory. (To control this warning, see the rcParam `figure.max_open_warning`).\n",
      "  max_open_warning, RuntimeWarning)\n"
     ]
    },
    {
     "name": "stdout",
     "output_type": "stream",
     "text": [
      "picker_p: 55966\n",
      "guess: 57111\n",
      "2019-06-29 20:42:55.752975\n",
      "/home/irene/Documents/Resultados/0b3c148e-977a-11e9-a0d3-f4e9d4c27a82/\n",
      "/home/irene/Documents/Resultados/0b3c148e-977a-11e9-a0d3-f4e9d4c27a82/CDITO_06-29-2019::20-42.png\n"
     ]
    },
    {
     "name": "stderr",
     "output_type": "stream",
     "text": [
      "/home/irene/virtualenvs/obspy/lib/python3.6/site-packages/matplotlib/pyplot.py:514: RuntimeWarning: More than 20 figures have been opened. Figures created through the pyplot interface (`matplotlib.pyplot.figure`) are retained until explicitly closed and may consume too much memory. (To control this warning, see the rcParam `figure.max_open_warning`).\n",
      "  max_open_warning, RuntimeWarning)\n"
     ]
    },
    {
     "name": "stdout",
     "output_type": "stream",
     "text": [
      "picker_p: 55966\n",
      "guess: 58054\n",
      "2019-06-29 20:43:09.550778\n",
      "/home/irene/Documents/Resultados/01d880d6-9765-11e9-a0d3-f4e9d4c27a82/\n",
      "/home/irene/Documents/Resultados/01d880d6-9765-11e9-a0d3-f4e9d4c27a82/CDITO_06-29-2019::20-43.png\n"
     ]
    },
    {
     "name": "stderr",
     "output_type": "stream",
     "text": [
      "/home/irene/virtualenvs/obspy/lib/python3.6/site-packages/matplotlib/pyplot.py:514: RuntimeWarning: More than 20 figures have been opened. Figures created through the pyplot interface (`matplotlib.pyplot.figure`) are retained until explicitly closed and may consume too much memory. (To control this warning, see the rcParam `figure.max_open_warning`).\n",
      "  max_open_warning, RuntimeWarning)\n"
     ]
    },
    {
     "name": "stdout",
     "output_type": "stream",
     "text": [
      "picker_p: 55966\n",
      "guess: 55663\n",
      "2019-06-29 20:44:56.807602\n",
      "/home/irene/Documents/Resultados/3a90ef36-98a4-11e9-a0d3-f4e9d4c27a82/\n",
      "/home/irene/Documents/Resultados/3a90ef36-98a4-11e9-a0d3-f4e9d4c27a82/CDITO_06-29-2019::20-44.png\n"
     ]
    },
    {
     "name": "stderr",
     "output_type": "stream",
     "text": [
      "/home/irene/virtualenvs/obspy/lib/python3.6/site-packages/matplotlib/pyplot.py:514: RuntimeWarning: More than 20 figures have been opened. Figures created through the pyplot interface (`matplotlib.pyplot.figure`) are retained until explicitly closed and may consume too much memory. (To control this warning, see the rcParam `figure.max_open_warning`).\n",
      "  max_open_warning, RuntimeWarning)\n"
     ]
    },
    {
     "name": "stdout",
     "output_type": "stream",
     "text": [
      "picker_p: 55966\n",
      "guess: 55878\n",
      "2019-06-29 20:45:10.553674\n",
      "/home/irene/Documents/Resultados/4fa7af9e-97a6-11e9-a0d3-f4e9d4c27a82/\n",
      "/home/irene/Documents/Resultados/4fa7af9e-97a6-11e9-a0d3-f4e9d4c27a82/CDITO_06-29-2019::20-45.png\n"
     ]
    },
    {
     "name": "stderr",
     "output_type": "stream",
     "text": [
      "/home/irene/virtualenvs/obspy/lib/python3.6/site-packages/matplotlib/pyplot.py:514: RuntimeWarning: More than 20 figures have been opened. Figures created through the pyplot interface (`matplotlib.pyplot.figure`) are retained until explicitly closed and may consume too much memory. (To control this warning, see the rcParam `figure.max_open_warning`).\n",
      "  max_open_warning, RuntimeWarning)\n"
     ]
    },
    {
     "name": "stdout",
     "output_type": "stream",
     "text": [
      "picker_p: 55966\n",
      "guess: 55878\n",
      "2019-06-29 20:45:24.286390\n",
      "/home/irene/Documents/Resultados/5b77bc48-97eb-11e9-a0d3-f4e9d4c27a82/\n",
      "/home/irene/Documents/Resultados/5b77bc48-97eb-11e9-a0d3-f4e9d4c27a82/CDITO_06-29-2019::20-45.png\n"
     ]
    },
    {
     "name": "stderr",
     "output_type": "stream",
     "text": [
      "/home/irene/virtualenvs/obspy/lib/python3.6/site-packages/matplotlib/pyplot.py:514: RuntimeWarning: More than 20 figures have been opened. Figures created through the pyplot interface (`matplotlib.pyplot.figure`) are retained until explicitly closed and may consume too much memory. (To control this warning, see the rcParam `figure.max_open_warning`).\n",
      "  max_open_warning, RuntimeWarning)\n"
     ]
    },
    {
     "name": "stdout",
     "output_type": "stream",
     "text": [
      "picker_p: 55966\n",
      "guess: 55370\n",
      "2019-06-29 20:46:08.517048\n",
      "/home/irene/Documents/Resultados/2c1c327e-9707-11e9-a0d3-f4e9d4c27a82/\n",
      "/home/irene/Documents/Resultados/2c1c327e-9707-11e9-a0d3-f4e9d4c27a82/CDITO_06-29-2019::20-46.png\n",
      "/home/irene/Documents/Datos-Tesis/Estaciones/CDM.HHZ.2018.337.16.57.18.sac\n"
     ]
    },
    {
     "name": "stderr",
     "output_type": "stream",
     "text": [
      "/home/irene/virtualenvs/obspy/lib/python3.6/site-packages/matplotlib/pyplot.py:514: RuntimeWarning: More than 20 figures have been opened. Figures created through the pyplot interface (`matplotlib.pyplot.figure`) are retained until explicitly closed and may consume too much memory. (To control this warning, see the rcParam `figure.max_open_warning`).\n",
      "  max_open_warning, RuntimeWarning)\n"
     ]
    },
    {
     "name": "stdout",
     "output_type": "stream",
     "text": [
      "picker_p: 12689\n",
      "guess: 12171\n",
      "2019-06-29 20:46:25.430997\n",
      "/home/irene/Documents/Resultados/0b3c148e-977a-11e9-a0d3-f4e9d4c27a82/\n",
      "/home/irene/Documents/Resultados/0b3c148e-977a-11e9-a0d3-f4e9d4c27a82/CDM_06-29-2019::20-46.png\n"
     ]
    },
    {
     "name": "stderr",
     "output_type": "stream",
     "text": [
      "/home/irene/virtualenvs/obspy/lib/python3.6/site-packages/matplotlib/pyplot.py:514: RuntimeWarning: More than 20 figures have been opened. Figures created through the pyplot interface (`matplotlib.pyplot.figure`) are retained until explicitly closed and may consume too much memory. (To control this warning, see the rcParam `figure.max_open_warning`).\n",
      "  max_open_warning, RuntimeWarning)\n"
     ]
    },
    {
     "name": "stdout",
     "output_type": "stream",
     "text": [
      "picker_p: 12689\n",
      "guess: 13161\n",
      "2019-06-29 20:46:36.658163\n",
      "/home/irene/Documents/Resultados/01d880d6-9765-11e9-a0d3-f4e9d4c27a82/\n",
      "/home/irene/Documents/Resultados/01d880d6-9765-11e9-a0d3-f4e9d4c27a82/CDM_06-29-2019::20-46.png\n"
     ]
    },
    {
     "name": "stderr",
     "output_type": "stream",
     "text": [
      "/home/irene/virtualenvs/obspy/lib/python3.6/site-packages/matplotlib/pyplot.py:514: RuntimeWarning: More than 20 figures have been opened. Figures created through the pyplot interface (`matplotlib.pyplot.figure`) are retained until explicitly closed and may consume too much memory. (To control this warning, see the rcParam `figure.max_open_warning`).\n",
      "  max_open_warning, RuntimeWarning)\n"
     ]
    },
    {
     "name": "stdout",
     "output_type": "stream",
     "text": [
      "picker_p: 12689\n",
      "guess: 12369\n",
      "2019-06-29 20:47:35.565502\n",
      "/home/irene/Documents/Resultados/3a90ef36-98a4-11e9-a0d3-f4e9d4c27a82/\n",
      "/home/irene/Documents/Resultados/3a90ef36-98a4-11e9-a0d3-f4e9d4c27a82/CDM_06-29-2019::20-47.png\n"
     ]
    },
    {
     "name": "stderr",
     "output_type": "stream",
     "text": [
      "/home/irene/virtualenvs/obspy/lib/python3.6/site-packages/matplotlib/pyplot.py:514: RuntimeWarning: More than 20 figures have been opened. Figures created through the pyplot interface (`matplotlib.pyplot.figure`) are retained until explicitly closed and may consume too much memory. (To control this warning, see the rcParam `figure.max_open_warning`).\n",
      "  max_open_warning, RuntimeWarning)\n"
     ]
    },
    {
     "name": "stdout",
     "output_type": "stream",
     "text": [
      "picker_p: 12689\n",
      "guess: 12637\n",
      "2019-06-29 20:47:47.909745\n",
      "/home/irene/Documents/Resultados/4fa7af9e-97a6-11e9-a0d3-f4e9d4c27a82/\n",
      "/home/irene/Documents/Resultados/4fa7af9e-97a6-11e9-a0d3-f4e9d4c27a82/CDM_06-29-2019::20-47.png\n"
     ]
    },
    {
     "name": "stderr",
     "output_type": "stream",
     "text": [
      "/home/irene/virtualenvs/obspy/lib/python3.6/site-packages/matplotlib/pyplot.py:514: RuntimeWarning: More than 20 figures have been opened. Figures created through the pyplot interface (`matplotlib.pyplot.figure`) are retained until explicitly closed and may consume too much memory. (To control this warning, see the rcParam `figure.max_open_warning`).\n",
      "  max_open_warning, RuntimeWarning)\n"
     ]
    },
    {
     "name": "stdout",
     "output_type": "stream",
     "text": [
      "picker_p: 12689\n",
      "guess: 12635\n",
      "2019-06-29 20:48:00.180373\n",
      "/home/irene/Documents/Resultados/5b77bc48-97eb-11e9-a0d3-f4e9d4c27a82/\n",
      "/home/irene/Documents/Resultados/5b77bc48-97eb-11e9-a0d3-f4e9d4c27a82/CDM_06-29-2019::20-48.png\n"
     ]
    },
    {
     "name": "stderr",
     "output_type": "stream",
     "text": [
      "/home/irene/virtualenvs/obspy/lib/python3.6/site-packages/matplotlib/pyplot.py:514: RuntimeWarning: More than 20 figures have been opened. Figures created through the pyplot interface (`matplotlib.pyplot.figure`) are retained until explicitly closed and may consume too much memory. (To control this warning, see the rcParam `figure.max_open_warning`).\n",
      "  max_open_warning, RuntimeWarning)\n"
     ]
    },
    {
     "name": "stdout",
     "output_type": "stream",
     "text": [
      "picker_p: 12689\n",
      "guess: 12171\n",
      "2019-06-29 20:48:26.874017\n",
      "/home/irene/Documents/Resultados/2c1c327e-9707-11e9-a0d3-f4e9d4c27a82/\n",
      "/home/irene/Documents/Resultados/2c1c327e-9707-11e9-a0d3-f4e9d4c27a82/CDM_06-29-2019::20-48.png\n",
      "/home/irene/Documents/Datos-Tesis/Estaciones/CDM.HHZ.2019.088.14.45.11\n"
     ]
    },
    {
     "name": "stderr",
     "output_type": "stream",
     "text": [
      "/home/irene/virtualenvs/obspy/lib/python3.6/site-packages/matplotlib/pyplot.py:514: RuntimeWarning: More than 20 figures have been opened. Figures created through the pyplot interface (`matplotlib.pyplot.figure`) are retained until explicitly closed and may consume too much memory. (To control this warning, see the rcParam `figure.max_open_warning`).\n",
      "  max_open_warning, RuntimeWarning)\n"
     ]
    },
    {
     "name": "stdout",
     "output_type": "stream",
     "text": [
      "picker_p: 55038\n",
      "guess: 54309\n",
      "2019-06-29 20:48:53.882673\n",
      "/home/irene/Documents/Resultados/0b3c148e-977a-11e9-a0d3-f4e9d4c27a82/\n",
      "/home/irene/Documents/Resultados/0b3c148e-977a-11e9-a0d3-f4e9d4c27a82/CDM_06-29-2019::20-48.png\n"
     ]
    }
   ],
   "source": [
    "base_path = '\", \"/home/irene/Documents/Datos-Tesis/Estaciones/'\n",
    "\n",
    "files_name = [\"/home/irene/Documents/Datos-Tesis/Estaciones/2010.181.195432.SAC\",\n",
    "              \"/home/irene/Documents/Datos-Tesis/Estaciones/ACHA.HHZ.2019.088.14.45.11\",\n",
    "              \"/home/irene/Documents/Datos-Tesis/Estaciones/BATAN.HHZ.2018.337.16.57.18.sac\",\n",
    "              \"/home/irene/Documents/Datos-Tesis/Estaciones/BATAN.HHZ.2019.088.14.45.11\",\n",
    "              \"/home/irene/Documents/Datos-Tesis/Estaciones/CALV.HHZ.2018.337.16.57.18.sac\", \n",
    "              \"/home/irene/Documents/Datos-Tesis/Estaciones/CCOL.HHZ.2019.088.14.45.11\", \n",
    "              \"/home/irene/Documents/Datos-Tesis/Estaciones/CDITO.HHZ.2019.088.14.45.11\", \n",
    "              \"/home/irene/Documents/Datos-Tesis/Estaciones/CDM.HHZ.2018.337.16.57.18.sac\", \n",
    "              \"/home/irene/Documents/Datos-Tesis/Estaciones/CDM.HHZ.2019.088.14.45.11\", \n",
    "              \"/home/irene/Documents/Datos-Tesis/Estaciones/CNKC.HHZ.2018.337.16.57.18.sac\", \n",
    "              \"/home/irene/Documents/Datos-Tesis/Estaciones/CNKC.HHZ.2019.088.14.45.11\", \n",
    "              \"/home/irene/Documents/Datos-Tesis/Estaciones/COVE.HHZ.2018.337.16.57.18.sac\", \n",
    "              \"/home/irene/Documents/Datos-Tesis/Estaciones/COVE.HHZ.2019.088.14.45.11\", \n",
    "              \"/home/irene/Documents/Datos-Tesis/Estaciones/CPAN.HHZ.2018.337.16.57.18.sac\", \n",
    "              \"/home/irene/Documents/Datos-Tesis/Estaciones/CPMI.HHZ.2019.088.14.45.11\", \n",
    "              \"/home/irene/Documents/Datos-Tesis/Estaciones/CTCR.HHZ.2019.088.14.45.11\",\n",
    "              \"/home/irene/Documents/Datos-Tesis/Estaciones/CVTQ.HHZ.2019.088.14.45.11\", \n",
    "              \"/home/irene/Documents/Datos-Tesis/Estaciones/CVTR.HHZ.2019.088.14.45.11\", \n",
    "              \"/home/irene/Documents/Datos-Tesis/Estaciones/DUNO.HHZ.2019.088.14.45.11\", \n",
    "              \"/home/irene/Documents/Datos-Tesis/Estaciones/HAYA.HHZ.2019.088.14.45.11\", \n",
    "              \"/home/irene/Documents/Datos-Tesis/Estaciones/HDC3.HHZ.2017-08-06T13:19:39.320000.SAC\", \n",
    "              \"/home/irene/Documents/Datos-Tesis/Estaciones/HDC3.HHZ.2017-08-07T09:20:19.840000.SAC\", \n",
    "              \"/home/irene/Documents/Datos-Tesis/Estaciones/HDC3.HHZ.2017-08-09T03:15:02.060000.SAC\",\n",
    "              \"/home/irene/Documents/Datos-Tesis/Estaciones/HDC3.HHZ.2017-08-10T07:24:35.140000.SAC\", \n",
    "              \"/home/irene/Documents/Datos-Tesis/Estaciones/HDC3.HHZ.2017-08-17T09:05:20.280000.SAC\", \n",
    "              \"/home/irene/Documents/Datos-Tesis/Estaciones/HDC3.HHZ.2017-08-17T09:12:18.920000.SAC\", \n",
    "              \"/home/irene/Documents/Datos-Tesis/Estaciones/HDC3.HHZ.2017-08-19T11:06:11.320000.SAC\", \n",
    "              \"/home/irene/Documents/Datos-Tesis/Estaciones/HDC3.HHZ.2017-08-22T10:04:41.140000.SAC\", \n",
    "              \"/home/irene/Documents/Datos-Tesis/Estaciones/HDC3.HHZ.2017-09-03T06:38:51.340000.SAC\", \n",
    "              \"/home/irene/Documents/Datos-Tesis/Estaciones/HDC3.HHZ.2017-09-04T00:29:11.800000.SAC\", \n",
    "              \"/home/irene/Documents/Datos-Tesis/Estaciones/HDC3.HHZ.2017-09-04T02:45:35.840000.SAC\", \n",
    "              \"/home/irene/Documents/Datos-Tesis/Estaciones/HDC3.HHZ.2017-09-04T07:08:14.680000.SAC\", \n",
    "              \"/home/irene/Documents/Datos-Tesis/Estaciones/HDC3.HHZ.2017-09-05T11:50:17.340000.SAC\", \n",
    "              \"/home/irene/Documents/Datos-Tesis/Estaciones/HDC3.HHZ.2017-09-11T08:23:58.040000.SAC\", \n",
    "              \"/home/irene/Documents/Datos-Tesis/Estaciones/HDC3.HHZ.2017-09-16T21:18:43.120000.SAC\", \n",
    "              \"/home/irene/Documents/Datos-Tesis/Estaciones/HDC3.HHZ.2017-09-17T03:04:58.940000.SAC\", \n",
    "              \"/home/irene/Documents/Datos-Tesis/Estaciones/HDC3.HHZ.2017-09-17T03:05:27.100000.SAC\", \n",
    "              \"/home/irene/Documents/Datos-Tesis/Estaciones/HDC3.HHZ.2017-09-26T06:28:30.480000.SAC\", \n",
    "              \"/home/irene/Documents/Datos-Tesis/Estaciones/HDC3.HHZ.2017-09-30T09:44:08.580000.SAC\", \n",
    "              \"/home/irene/Documents/Datos-Tesis/Estaciones/HDC3.HHZ.2017-09-30T09:44:24.980000.SAC\", \n",
    "              \"/home/irene/Documents/Datos-Tesis/Estaciones/HDC3.HHZ.2017-10-09T05:16:41.920000.SAC\", \n",
    "              \"/home/irene/Documents/Datos-Tesis/Estaciones/HDC3.HHZ.2017-10-09T05:36:21.460000.SAC\", \n",
    "              \"/home/irene/Documents/Datos-Tesis/Estaciones/HDC3.HHZ.2017-10-19T09:23:52.940000.SAC\", \n",
    "              \"/home/irene/Documents/Datos-Tesis/Estaciones/HDC3.HHZ.2017-12-27T21:49:42.320000.SAC\", \n",
    "              \"/home/irene/Documents/Datos-Tesis/Estaciones/HDC3.HHZ.2018.337.16.57.18.sac\"]\n",
    "\n",
    "for file_name in files_name:\n",
    "    file = os.path.join(base_path, file_name)\n",
    "    print(file)\n",
    "    cnn_to_run = [picker_p_predict(file, 'min_max_scaler_1', False, '/home/irene/Documents/Datos-Tesis/results/0b3c148e-977a-11e9-a0d3-f4e9d4c27a82.h5', 600), \n",
    "       picker_p_predict(file, 'min_max_scaler', True, \"/home/irene/Documents/Datos-Tesis/results/01d880d6-9765-11e9-a0d3-f4e9d4c27a82.h5\", 60),\n",
    "       picker_p_predict(file, 'min_max_scaler_1', True, \"/home/irene/Documents/Datos-Tesis/results/3a90ef36-98a4-11e9-a0d3-f4e9d4c27a82.h5\", 300),\n",
    "       picker_p_predict(file, 'standard_scaler', True, '/home/irene/Documents/Datos-Tesis/results/4fa7af9e-97a6-11e9-a0d3-f4e9d4c27a82.h5', 60),\n",
    "       picker_p_predict(file, 'standard_scaler', False, '/home/irene/Documents/Datos-Tesis/results/5b77bc48-97eb-11e9-a0d3-f4e9d4c27a82.h5', 60),\n",
    "       picker_p_predict(file, 'min_max_scaler_1', False, '/home/irene/Documents/Datos-Tesis/results/2c1c327e-9707-11e9-a0d3-f4e9d4c27a82.h5', 600)]\n",
    "    for cnn in cnn_to_run:\n",
    "        cnn"
   ]
  },
  {
   "cell_type": "code",
   "execution_count": null,
   "metadata": {},
   "outputs": [],
   "source": [
    "file_cnn = '/home/irene/Documents/Datos-Tesis/results/0b3c148e-977a-11e9-a0d3-f4e9d4c27a82.h5'\n",
    "split = file_cnn.split(\"/\")[6].split(\".\")\n",
    "print(split[0])"
   ]
  },
  {
   "cell_type": "code",
   "execution_count": null,
   "metadata": {},
   "outputs": [],
   "source": []
  }
 ],
 "metadata": {
  "kernelspec": {
   "display_name": "obspy",
   "language": "python",
   "name": "obspy"
  },
  "language_info": {
   "codemirror_mode": {
    "name": "ipython",
    "version": 3
   },
   "file_extension": ".py",
   "mimetype": "text/x-python",
   "name": "python",
   "nbconvert_exporter": "python",
   "pygments_lexer": "ipython3",
   "version": "3.6.7"
  }
 },
 "nbformat": 4,
 "nbformat_minor": 2
}
